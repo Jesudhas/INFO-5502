{
 "cells": [
  {
   "cell_type": "markdown",
   "metadata": {
    "colab_type": "text",
    "id": "DymRJbxDBCnf"
   },
   "source": [
    "# **The first Lab-assignment (07/15/2022 11:59'AM' to 7/19/2022 11:59PM, 50 points in total)**"
   ]
  },
  {
   "cell_type": "markdown",
   "metadata": {
    "colab_type": "text",
    "id": "jJDe71iLB616"
   },
   "source": [
    "(1) Write a Python program to count the number of characters in a string. (6 points)\n",
    "\n",
    "Sample String : 'google.com', \n",
    "\n",
    "Expected Result : {'o': 3, 'g': 2, '.': 1, 'e': 1, 'l': 1, 'm': 1, 'c': 1}"
   ]
  },
  {
   "cell_type": "code",
   "execution_count": 1,
   "metadata": {
    "colab": {},
    "colab_type": "code",
    "id": "MtKskTzbCLaU"
   },
   "outputs": [
    {
     "name": "stdout",
     "output_type": "stream",
     "text": [
      "{'o': 3, 'g': 2, 'l': 1, 'e': 1, '.': 1, 'c': 1, 'm': 1}\n"
     ]
    }
   ],
   "source": [
    "# write your answer here\n",
    "import operator\n",
    "\n",
    "def stringToDictionary(str1):\n",
    "  str_dict = dict()\n",
    "  for i in str1:\n",
    "    count = 0\n",
    "    for n in str1:\n",
    "      if i == n:\n",
    "        count += 1\n",
    "    str_dict[i] = count\n",
    "  sort = dict(sorted(str_dict.items(), key=operator.itemgetter(1),reverse=True))\n",
    "  return sort\n",
    "\n",
    "string = \"google.com\"\n",
    "print(stringToDictionary(string))"
   ]
  },
  {
   "cell_type": "markdown",
   "metadata": {
    "colab_type": "text",
    "id": "55W9AMdXCSpV"
   },
   "source": [
    "(2) Write a Python program to sum all the items in a list. (6 points)"
   ]
  },
  {
   "cell_type": "code",
   "execution_count": 2,
   "metadata": {
    "colab": {},
    "colab_type": "code",
    "id": "I57NXsauCec2"
   },
   "outputs": [
    {
     "name": "stdout",
     "output_type": "stream",
     "text": [
      "-1\n"
     ]
    }
   ],
   "source": [
    "# write your answer here\n",
    "def sum_list(items):  \n",
    "    sum_numbers = 0  \n",
    "    for n in items:  \n",
    "        sum_numbers += n  \n",
    "    return sum_numbers  \n",
    "print(sum_list([1,-3,5,-4]))"
   ]
  },
  {
   "cell_type": "markdown",
   "metadata": {
    "colab_type": "text",
    "id": "4ulBZ6yhCi9F"
   },
   "source": [
    "(3) Write a Python program to get a string from a given string where all occurrences of its first char have been changed to '\\$', except the first char itself. (6 points)\n",
    "\n",
    "Sample String : 'restart', \n",
    "\n",
    "Expected Result : 'resta\\$t'"
   ]
  },
  {
   "cell_type": "code",
   "execution_count": 3,
   "metadata": {
    "colab": {},
    "colab_type": "code",
    "id": "Fj0XhwbBCw2o"
   },
   "outputs": [
    {
     "name": "stdout",
     "output_type": "stream",
     "text": [
      "resta$t\n"
     ]
    }
   ],
   "source": [
    "# write your answer here\n",
    "def change_char(str1):\n",
    "  char = str1[0]\n",
    "  str1 = str1.replace(char, '$')\n",
    "  str1 = char + str1[1:]\n",
    "\n",
    "  return str1\n",
    "\n",
    "print(change_char('restart'))"
   ]
  },
  {
   "cell_type": "markdown",
   "metadata": {
    "colab_type": "text",
    "id": "_bIP7s1MCzue"
   },
   "source": [
    "(4) Write a program with python which could accept two parameter a and b to calculate and output the result of S, where \n",
    "\n",
    "$\\ S=3.14*(1+a/b)^3$ (6 points)"
   ]
  },
  {
   "cell_type": "code",
   "execution_count": 4,
   "metadata": {
    "colab": {},
    "colab_type": "code",
    "id": "w79QilHXD3Mg"
   },
   "outputs": [
    {
     "name": "stdout",
     "output_type": "stream",
     "text": [
      "Please enter a value for a : 5\n",
      "Please enter a value for b : 8\n",
      " Result :  13.4737890625\n"
     ]
    }
   ],
   "source": [
    "# write your answer here\n",
    "\n",
    "def Serror(error):\n",
    "  print(error)\n",
    "  return\n",
    "\n",
    "def cal_S(a, b):\n",
    "  if b == 0:\n",
    "    error(\"Error: If divide by zero\")\n",
    "  return 3.14 * (1 + a/b)**3\n",
    "\n",
    "#intializing a & b variables\n",
    "Value_a = int(input(\"Please enter a value for a : \"))\n",
    "Value_b = int(input(\"Please enter a value for b : \"))\n",
    "\n",
    "#Calling the above functions and printing results \n",
    "print(\" Result : \", cal_S(Value_a, Value_b))"
   ]
  },
  {
   "cell_type": "markdown",
   "metadata": {
    "colab_type": "text",
    "id": "xCa2bK9aD4Q3"
   },
   "source": [
    "(5) Write a Python program to concatenate following dictionaries to create a new one. (6 points)\n",
    "\n",
    "Sample Dictionary : dic1={1:10, 2:20}, dic2={3:30, 4:40}, dic3={5:50,6:60}, \n",
    "\n",
    "Expected Result : {1: 10, 2: 20, 3: 30, 4: 40, 5: 50, 6: 60}\n"
   ]
  },
  {
   "cell_type": "code",
   "execution_count": 5,
   "metadata": {
    "colab": {},
    "colab_type": "code",
    "id": "_z4aLqAbEET1"
   },
   "outputs": [
    {
     "name": "stdout",
     "output_type": "stream",
     "text": [
      "{1: 10, 2: 20, 3: 30, 4: 40, 5: 50, 6: 60}\n"
     ]
    }
   ],
   "source": [
    "# write your answer here\n",
    "dic1={1:10, 2:20}\n",
    "dic2={3:30, 4:40}\n",
    "dic3={5:50,6:60}\n",
    "dic4 = {}\n",
    "for d in (dic1, dic2, dic3): dic4.update(d)\n",
    "print(dic4)"
   ]
  },
  {
   "cell_type": "markdown",
   "metadata": {
    "colab_type": "text",
    "id": "0v48Vqa7FrQh"
   },
   "source": [
    "(6) Write a Python program to check whether an element exists within a tuple. (6 points)"
   ]
  },
  {
   "cell_type": "code",
   "execution_count": 6,
   "metadata": {
    "colab": {},
    "colab_type": "code",
    "id": "7WEmgq-DF2P1"
   },
   "outputs": [
    {
     "name": "stdout",
     "output_type": "stream",
     "text": [
      "True\n",
      "False\n"
     ]
    }
   ],
   "source": [
    "# write your answer here\n",
    "tuplex = (\"U\", \"N\", \"T\", \"I\", \"N\", \"F\", \"0\", \"5\", \"5\", \"0\", \"0\")\n",
    "print(\"F\" in tuplex)\n",
    "print(6 in tuplex)"
   ]
  },
  {
   "cell_type": "markdown",
   "metadata": {
    "colab_type": "text",
    "id": "vD5PYLMuGga_"
   },
   "source": [
    "(7) Write a Python program to find maximum and the minimum value in a set. (6 points)"
   ]
  },
  {
   "cell_type": "code",
   "execution_count": 7,
   "metadata": {
    "colab": {},
    "colab_type": "code",
    "id": "t0D5kdJUGjjw"
   },
   "outputs": [
    {
     "name": "stdout",
     "output_type": "stream",
     "text": [
      "Original set elements:\n",
      "{20, 5, 10, 12, 30, 15}\n",
      "<class 'set'>\n",
      "\n",
      " Maximum value in the set:\n",
      "30\n",
      "\n",
      " Minimum value in the set:\n",
      "5\n"
     ]
    }
   ],
   "source": [
    "# write your answer here\n",
    "setn = {5, 10, 30, 15, 12,20}\n",
    "print(\"Original set elements:\")\n",
    "print(setn)\n",
    "print(type(setn))\n",
    "print(\"\\n Maximum value in the set:\")\n",
    "print(max(setn))\n",
    "print(\"\\n Minimum value in the set:\")\n",
    "print(min(setn))"
   ]
  },
  {
   "cell_type": "markdown",
   "metadata": {},
   "source": [
    "(8) Write a Python program to find the duplicate elements in a given array of integers. Return -1 If there are no such elements. (8 points)"
   ]
  },
  {
   "cell_type": "code",
   "execution_count": 8,
   "metadata": {},
   "outputs": [
    {
     "name": "stdout",
     "output_type": "stream",
     "text": [
      "4\n",
      "-1\n",
      "1\n"
     ]
    }
   ],
   "source": [
    "# write your answer here\n",
    "\n",
    "def find_first_duplicate(nums):\n",
    "    num_set = set()\n",
    "    no_duplicate = -1\n",
    "\n",
    "    for i in range(len(nums)):\n",
    "\n",
    "        if nums[i] in num_set:\n",
    "            return nums[i]\n",
    "        else:\n",
    "            num_set.add(nums[i])\n",
    "\n",
    "    return no_duplicate\n",
    "\n",
    "print(find_first_duplicate([1, 2, 3, 4, 4, 5]))\n",
    "\n",
    "print(find_first_duplicate([1, 2, 3, 4]))\n",
    "print(find_first_duplicate([1, 1, 2, 3, 3, 2, 2]))"
   ]
  },
  {
   "cell_type": "code",
   "execution_count": null,
   "metadata": {},
   "outputs": [],
   "source": []
  }
 ],
 "metadata": {
  "colab": {
   "collapsed_sections": [],
   "include_colab_link": true,
   "name": "In_class_exercise_01.ipynb",
   "provenance": []
  },
  "kernelspec": {
   "display_name": "Python 3 (ipykernel)",
   "language": "python",
   "name": "python3"
  },
  "language_info": {
   "codemirror_mode": {
    "name": "ipython",
    "version": 3
   },
   "file_extension": ".py",
   "mimetype": "text/x-python",
   "name": "python",
   "nbconvert_exporter": "python",
   "pygments_lexer": "ipython3",
   "version": "3.9.7"
  },
  "vscode": {
   "interpreter": {
    "hash": "5c6a7f839effdddf35473dacbb9a8184e57ebbba5133cab03b12e4f28d4f0d0f"
   }
  }
 },
 "nbformat": 4,
 "nbformat_minor": 1
}
