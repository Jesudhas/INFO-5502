{
 "cells": [
  {
   "cell_type": "markdown",
   "metadata": {
    "colab_type": "text",
    "id": "Ryk8D1Q4Wsrp"
   },
   "source": [
    "# **The second Lab-assignment (07/19/2022 11:59'AM' - 07/22/2022 11:59PM, 50 points in total)**"
   ]
  },
  {
   "cell_type": "markdown",
   "metadata": {
    "colab_type": "text",
    "id": "90_NR8c5XGWc"
   },
   "source": [
    "# Question 1\n",
    "\n",
    "(5 points). Write a Python program to generate 12 random numbers between 1 and 100. Sort the list of numbers in ascending order and print it out. Sort the list of numbers in descending order and print it out. Calculate the average for the group and print it out."
   ]
  },
  {
   "cell_type": "code",
   "execution_count": 7,
   "metadata": {
    "colab": {},
    "colab_type": "code",
    "id": "5QX6bJjGWXY9"
   },
   "outputs": [
    {
     "name": "stdout",
     "output_type": "stream",
     "text": [
      "Random numbers  :  [94, 99, 47, 63, 89, 39, 44, 28, 27, 55, 60, 49]\n",
      "Ascending order :  [27, 28, 39, 44, 47, 49, 55, 60, 63, 89, 94, 99]\n",
      "Decending order :  [99, 94, 89, 63, 60, 55, 49, 47, 44, 39, 28, 27]\n",
      "Average of the list is :  57.83\n"
     ]
    }
   ],
   "source": [
    "# Your code here\n",
    "import random\n",
    "\n",
    "numbers = []\n",
    "\n",
    "for items in range(1,13):\n",
    "    x = random.randint(1,100)\n",
    "    numbers.append(x)\n",
    "\n",
    "print (\"Random numbers  : \", numbers)\n",
    "\n",
    "numbers.sort()\n",
    "print(\"Ascending order : \", numbers)\n",
    "\n",
    "numbers.sort(reverse = True)\n",
    "print (\"Decending order : \", numbers)\n",
    "\n",
    "def avg(numbers):\n",
    "    return sum(numbers) / len(numbers)\n",
    "\n",
    "print (\"Average of the list is : \", round(avg(numbers),2))"
   ]
  },
  {
   "cell_type": "markdown",
   "metadata": {
    "colab_type": "text",
    "id": "CmFoI4jDS9nx"
   },
   "source": [
    "# Question 2 \n",
    "\n",
    "(5 points). The formula that describes the volume V of a sphere with radius r is the following:\n",
    "\n",
    "$ V=\\frac{4}{3}\\ast\\ \\pi\\ast\\ r^3 $\n",
    "\n",
    "Write a program to calculate the value of V when r is in the range of 1–10. Output the result in the following format:\n",
    "\n",
    "\tr\tV\n",
    "\t1\t…\n",
    "\t2\t…\n",
    "\t3\t…\n"
   ]
  },
  {
   "cell_type": "code",
   "execution_count": 9,
   "metadata": {
    "colab": {},
    "colab_type": "code",
    "id": "pEyqeioAT95b"
   },
   "outputs": [
    {
     "name": "stdout",
     "output_type": "stream",
     "text": [
      "r     v\n",
      "1     4.1887902047863905\n",
      "2     33.510321638291124\n",
      "3     113.09733552923254\n",
      "4     268.082573106329\n",
      "5     523.5987755982989\n",
      "6     904.7786842338603\n",
      "7     1436.7550402417319\n",
      "8     2144.660584850632\n",
      "9     3053.6280592892786\n",
      "10     4188.790204786391\n"
     ]
    }
   ],
   "source": [
    "# Your code here\n",
    "import math\n",
    "\n",
    "def volume(r):\n",
    "    return (4/3*math.pi*r**3)\n",
    "\n",
    "print('r     v')\n",
    "for r in range(1, 11):\n",
    "    print (str(r) +\"     \" +str(volume(r)))"
   ]
  },
  {
   "cell_type": "markdown",
   "metadata": {
    "colab_type": "text",
    "id": "z3tBE7E-Xn5X"
   },
   "source": [
    "# Question 3\n",
    "\n",
    "(40 points). In the field of Data Science, data is often formatted as a comma-delimited (CSV) file, where each line in a file corresponds to a field's value. Refer to Chapter 9 (p. 106) for more information on comma-delimited files. To answer this question, you will need to download the file [lab_assignment_02_denton_housing.csv](https://github.com/suthapalliuday/INFO5502-Summer2022/blob/main/datasets/lab_assignment_02_denton_housing.csv) included with this assignment. The file [lab_assignment_02_denton_housing.csv](https://github.com/suthapalliuday/INFO5502-Summer2022/blob/main/datasets/lab_assignment_02_denton_housing.csv) contains statistics about housing in the city of Denton from 2008 to 2014. Write a program to implement the following questions.\n",
    "\n",
    "(1) (10 pts) Calculate the difference in the number of Occupied Housing Units from year to year and print it. The difference must be calculated for the consecutive years such as 2008-2009, 2009-2010 etc. Finally, print the values in the ascending order.\n",
    "\n",
    "(2) (10 pts) For all the years, calculate the percentage of housing units which are vacant an occupied. Print the results in the following format:\n",
    "\n",
    "Year Vacant Housing Units Occupied Housing Units\n",
    "\n",
    "    2008  30%   70%                          \n",
    "\t2009 ----- -----\n",
    "\t2010 ----- -----\n",
    "    2011 ----- -----\n",
    "\t2012 ----- -----\n",
    "    2013 ----- -----\n",
    "\t2014 ----- -----\n",
    "  \n",
    "  \n",
    "\n",
    "(3) (10 pts) Calculate and print the valued and years in which the highest number of housing units were vacant and occupied. Print the results in the following format:  \n",
    "\n",
    "                              Year\tValue\n",
    "\tVacant Housing Units\t  -----   -----\n",
    "\tOccupied Housing Units\t-----   -----\n",
    "\n",
    "(4) (10 pts) Calculate the harmonic mean of the total housing units and print it out. You can find the information about harmonic mean here: https://ncalculators.com/statistics/harmonic-mean-calculator.htm"
   ]
  },
  {
   "cell_type": "code",
   "execution_count": 31,
   "metadata": {
    "colab": {},
    "colab_type": "code",
    "id": "lqGYuHBhcsRH"
   },
   "outputs": [
    {
     "data": {
      "text/html": [
       "<div>\n",
       "<style scoped>\n",
       "    .dataframe tbody tr th:only-of-type {\n",
       "        vertical-align: middle;\n",
       "    }\n",
       "\n",
       "    .dataframe tbody tr th {\n",
       "        vertical-align: top;\n",
       "    }\n",
       "\n",
       "    .dataframe thead th {\n",
       "        text-align: right;\n",
       "    }\n",
       "</style>\n",
       "<table border=\"1\" class=\"dataframe\">\n",
       "  <thead>\n",
       "    <tr style=\"text-align: right;\">\n",
       "      <th></th>\n",
       "      <th>year</th>\n",
       "      <th>title_field</th>\n",
       "      <th>value</th>\n",
       "    </tr>\n",
       "  </thead>\n",
       "  <tbody>\n",
       "    <tr>\n",
       "      <th>0</th>\n",
       "      <td>2014</td>\n",
       "      <td>Total Housing Units</td>\n",
       "      <td>49109</td>\n",
       "    </tr>\n",
       "    <tr>\n",
       "      <th>1</th>\n",
       "      <td>2014</td>\n",
       "      <td>Vacant Housing Units</td>\n",
       "      <td>2814</td>\n",
       "    </tr>\n",
       "    <tr>\n",
       "      <th>2</th>\n",
       "      <td>2014</td>\n",
       "      <td>Occupied Housing Units</td>\n",
       "      <td>46295</td>\n",
       "    </tr>\n",
       "    <tr>\n",
       "      <th>3</th>\n",
       "      <td>2013</td>\n",
       "      <td>Total Housing Units</td>\n",
       "      <td>47888</td>\n",
       "    </tr>\n",
       "    <tr>\n",
       "      <th>4</th>\n",
       "      <td>2013</td>\n",
       "      <td>Vacant Housing Units</td>\n",
       "      <td>4215</td>\n",
       "    </tr>\n",
       "  </tbody>\n",
       "</table>\n",
       "</div>"
      ],
      "text/plain": [
       "   year             title_field  value\n",
       "0  2014     Total Housing Units  49109\n",
       "1  2014    Vacant Housing Units   2814\n",
       "2  2014  Occupied Housing Units  46295\n",
       "3  2013     Total Housing Units  47888\n",
       "4  2013    Vacant Housing Units   4215"
      ]
     },
     "execution_count": 31,
     "metadata": {},
     "output_type": "execute_result"
    }
   ],
   "source": [
    "# Your code here\n",
    "\n",
    "import pandas as pd\n",
    "\n",
    "df = pd.read_csv(\"https://raw.githubusercontent.com/suthapalliuday/INFO5502-Summer2022/main/datasets/lab_assignment_02_denton_housing.csv\")\n",
    "df.head()"
   ]
  },
  {
   "cell_type": "raw",
   "metadata": {},
   "source": [
    "(1) Calculate the difference in the number of Occupied Housing Units from year to year and print it. The difference must be calculated for the consecutive years such as 2008-2009, 2009-2010 etc. Finally, print the values in the ascending order."
   ]
  },
  {
   "cell_type": "code",
   "execution_count": 17,
   "metadata": {},
   "outputs": [
    {
     "data": {
      "text/plain": [
       "17    -795.0\n",
       "11    -303.0\n",
       "8     1404.0\n",
       "5     1565.0\n",
       "2     2622.0\n",
       "14    5091.0\n",
       "20       NaN\n",
       "Name: value, dtype: float64"
      ]
     },
     "execution_count": 17,
     "metadata": {},
     "output_type": "execute_result"
    }
   ],
   "source": [
    "#1\n",
    "occupied_housing = df[df[\"title_field\"]==\"Occupied Housing Units\"].sort_values(by=['year'])\n",
    "#occupied_housing\n",
    "occupied_housing.value.diff().sort_values()"
   ]
  },
  {
   "cell_type": "code",
   "execution_count": 23,
   "metadata": {},
   "outputs": [
    {
     "data": {
      "text/html": [
       "<div>\n",
       "<style scoped>\n",
       "    .dataframe tbody tr th:only-of-type {\n",
       "        vertical-align: middle;\n",
       "    }\n",
       "\n",
       "    .dataframe tbody tr th {\n",
       "        vertical-align: top;\n",
       "    }\n",
       "\n",
       "    .dataframe thead th {\n",
       "        text-align: right;\n",
       "    }\n",
       "</style>\n",
       "<table border=\"1\" class=\"dataframe\">\n",
       "  <thead>\n",
       "    <tr style=\"text-align: right;\">\n",
       "      <th></th>\n",
       "      <th>Consecutive years</th>\n",
       "      <th>Difference value</th>\n",
       "    </tr>\n",
       "  </thead>\n",
       "  <tbody>\n",
       "    <tr>\n",
       "      <th>0</th>\n",
       "      <td>2008 - 2009</td>\n",
       "      <td>-795.0</td>\n",
       "    </tr>\n",
       "    <tr>\n",
       "      <th>2</th>\n",
       "      <td>2010 - 2011</td>\n",
       "      <td>-303.0</td>\n",
       "    </tr>\n",
       "    <tr>\n",
       "      <th>3</th>\n",
       "      <td>2011 - 2012</td>\n",
       "      <td>1404.0</td>\n",
       "    </tr>\n",
       "    <tr>\n",
       "      <th>4</th>\n",
       "      <td>2012 - 2013</td>\n",
       "      <td>1565.0</td>\n",
       "    </tr>\n",
       "    <tr>\n",
       "      <th>5</th>\n",
       "      <td>2013 - 2014</td>\n",
       "      <td>2622.0</td>\n",
       "    </tr>\n",
       "    <tr>\n",
       "      <th>1</th>\n",
       "      <td>2009 - 2010</td>\n",
       "      <td>5091.0</td>\n",
       "    </tr>\n",
       "  </tbody>\n",
       "</table>\n",
       "</div>"
      ],
      "text/plain": [
       "  Consecutive years  Difference value\n",
       "0       2008 - 2009            -795.0\n",
       "2       2010 - 2011            -303.0\n",
       "3       2011 - 2012            1404.0\n",
       "4       2012 - 2013            1565.0\n",
       "5       2013 - 2014            2622.0\n",
       "1       2009 - 2010            5091.0"
      ]
     },
     "execution_count": 23,
     "metadata": {},
     "output_type": "execute_result"
    }
   ],
   "source": [
    "occupied_housing_df = pd.DataFrame({'Consecutive years':['2008 - 2009', '2009 - 2010', '2010 - 2011', '2011 - 2012', '2012 - 2013', '2013 - 2014'],'Difference value' :[-795.0, 5091.0, -303.0, 1404.0, 1565.0,2622.0]})\n",
    "\n",
    "#occupied_housing_df\n",
    "occupied_housing_df.sort_values(by=['Difference value'])"
   ]
  },
  {
   "cell_type": "raw",
   "metadata": {},
   "source": [
    "(2) For all the years, calculate the percentage of housing units which are vacant an occupied. Print the results in the following format:\n",
    "\n",
    "Year Vacant Housing Units Occupied Housing Units"
   ]
  },
  {
   "cell_type": "code",
   "execution_count": 27,
   "metadata": {},
   "outputs": [
    {
     "data": {
      "text/html": [
       "<div>\n",
       "<style scoped>\n",
       "    .dataframe tbody tr th:only-of-type {\n",
       "        vertical-align: middle;\n",
       "    }\n",
       "\n",
       "    .dataframe tbody tr th {\n",
       "        vertical-align: top;\n",
       "    }\n",
       "\n",
       "    .dataframe thead th {\n",
       "        text-align: right;\n",
       "    }\n",
       "</style>\n",
       "<table border=\"1\" class=\"dataframe\">\n",
       "  <thead>\n",
       "    <tr style=\"text-align: right;\">\n",
       "      <th></th>\n",
       "      <th>year</th>\n",
       "      <th>occupied_percentage</th>\n",
       "      <th>vacant_percentage</th>\n",
       "    </tr>\n",
       "  </thead>\n",
       "  <tbody>\n",
       "    <tr>\n",
       "      <th>0</th>\n",
       "      <td>2008</td>\n",
       "      <td>89.0</td>\n",
       "      <td>11.0</td>\n",
       "    </tr>\n",
       "    <tr>\n",
       "      <th>1</th>\n",
       "      <td>2009</td>\n",
       "      <td>91.0</td>\n",
       "      <td>9.0</td>\n",
       "    </tr>\n",
       "    <tr>\n",
       "      <th>2</th>\n",
       "      <td>2010</td>\n",
       "      <td>92.0</td>\n",
       "      <td>8.0</td>\n",
       "    </tr>\n",
       "    <tr>\n",
       "      <th>3</th>\n",
       "      <td>2011</td>\n",
       "      <td>91.0</td>\n",
       "      <td>9.0</td>\n",
       "    </tr>\n",
       "    <tr>\n",
       "      <th>4</th>\n",
       "      <td>2012</td>\n",
       "      <td>93.0</td>\n",
       "      <td>7.0</td>\n",
       "    </tr>\n",
       "    <tr>\n",
       "      <th>5</th>\n",
       "      <td>2013</td>\n",
       "      <td>91.0</td>\n",
       "      <td>9.0</td>\n",
       "    </tr>\n",
       "    <tr>\n",
       "      <th>6</th>\n",
       "      <td>2014</td>\n",
       "      <td>94.0</td>\n",
       "      <td>6.0</td>\n",
       "    </tr>\n",
       "  </tbody>\n",
       "</table>\n",
       "</div>"
      ],
      "text/plain": [
       "   year  occupied_percentage  vacant_percentage\n",
       "0  2008                 89.0               11.0\n",
       "1  2009                 91.0                9.0\n",
       "2  2010                 92.0                8.0\n",
       "3  2011                 91.0                9.0\n",
       "4  2012                 93.0                7.0\n",
       "5  2013                 91.0                9.0\n",
       "6  2014                 94.0                6.0"
      ]
     },
     "execution_count": 27,
     "metadata": {},
     "output_type": "execute_result"
    }
   ],
   "source": [
    "#2\n",
    "occupied = df[df[\"title_field\"] == \"Occupied Housing Units\"].sort_values(by = [\"year\"])\n",
    "\n",
    "#occupied \n",
    "vacant = df[df[\"title_field\"] == \"Vacant Housing Units\"].sort_values(by = [\"year\"])\n",
    "\n",
    "#vacant\n",
    "\n",
    "df_merge = pd.merge(occupied, vacant, on = [\"year\"])\n",
    "\n",
    "\n",
    "df_merge[\"occupied_percentage\"] = round(((df_merge[\"value_x\"]/(df_merge['value_x']+df_merge['value_y']))*100))\n",
    "df_merge[\"vacant_percentage\"] = round((df_merge[\"value_y\"]/(df_merge['value_x']+df_merge['value_y']))*100)\n",
    "\n",
    "Percentage_of_housing_units = df_merge[[\"year\", \"occupied_percentage\", \"vacant_percentage\"]]\n",
    "Percentage_of_housing_units"
   ]
  },
  {
   "cell_type": "raw",
   "metadata": {},
   "source": [
    "Calculate and print the valued and years in which the highest number of housing units were vacant and occupied. Print the results in the following format:"
   ]
  },
  {
   "cell_type": "code",
   "execution_count": 25,
   "metadata": {},
   "outputs": [
    {
     "name": "stdout",
     "output_type": "stream",
     "text": [
      "               title_field  year  value\n",
      "19    Vacant Housing Units  2008   4483\n",
      "2   Occupied Housing Units  2014  46295\n"
     ]
    }
   ],
   "source": [
    "#3\n",
    "\n",
    "occupied_max = df.loc[df['title_field'] == 'Occupied Housing Units','value'].max()\n",
    "df_result1 = df.loc[df['value'] == occupied_max]\n",
    "\n",
    "\n",
    "final_table1 = df_result1[['title_field', 'year', 'value']]\n",
    "\n",
    "vaccant_max = df.loc[df['title_field'] == 'Vacant Housing Units','value'].max()\n",
    "df_result2 = df.loc[df['value'] == vaccant_max]\n",
    "\n",
    "\n",
    "\n",
    "final_table2 = df_result2[['title_field', 'year', 'value']]\n",
    "\n",
    "\n",
    "df_final = pd.concat([final_table2, final_table1])\n",
    "print (df_final)"
   ]
  },
  {
   "cell_type": "raw",
   "metadata": {},
   "source": [
    "Calculate the harmonic mean of the total housing units and print it out. You can find the information about harmonic mean here:"
   ]
  },
  {
   "cell_type": "code",
   "execution_count": 26,
   "metadata": {},
   "outputs": [
    {
     "name": "stdout",
     "output_type": "stream",
     "text": [
      "44398.28543969185\n"
     ]
    }
   ],
   "source": [
    "#4.\n",
    "\n",
    "import statistics\n",
    "\n",
    "print(statistics.harmonic_mean(list(df[df[\"title_field\"] == \"Total Housing Units\"].value)))"
   ]
  },
  {
   "cell_type": "code",
   "execution_count": null,
   "metadata": {},
   "outputs": [],
   "source": []
  }
 ],
 "metadata": {
  "colab": {
   "authorship_tag": "ABX9TyOAjsNCkNulTpzgRQbHdy3f",
   "collapsed_sections": [],
   "include_colab_link": true,
   "name": "INFO5731_Assignment_One.ipynb",
   "provenance": []
  },
  "kernelspec": {
   "display_name": "Python 3 (ipykernel)",
   "language": "python",
   "name": "python3"
  },
  "language_info": {
   "codemirror_mode": {
    "name": "ipython",
    "version": 3
   },
   "file_extension": ".py",
   "mimetype": "text/x-python",
   "name": "python",
   "nbconvert_exporter": "python",
   "pygments_lexer": "ipython3",
   "version": "3.9.7"
  }
 },
 "nbformat": 4,
 "nbformat_minor": 1
}
